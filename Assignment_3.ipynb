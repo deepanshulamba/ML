{
 "cells": [
  {
   "cell_type": "markdown",
   "metadata": {},
   "source": [
    "## Question 1"
   ]
  },
  {
   "cell_type": "code",
   "execution_count": 11,
   "metadata": {},
   "outputs": [
    {
     "data": {
      "text/plain": [
       "0.0303030303030562"
      ]
     },
     "execution_count": 11,
     "metadata": {},
     "output_type": "execute_result"
    }
   ],
   "source": [
    "a=0.3055555555556       #let p(a) be a\n",
    "b=0.1666666666667       #let p(b) be b\n",
    "c=0.0555555555556       #let p(a/b) be c\n",
    "def cp(a,b,c):\n",
    "    return((c*b)/a)\n",
    "#p(b/a)\n",
    "cp(a,b,c)"
   ]
  },
  {
   "cell_type": "markdown",
   "metadata": {},
   "source": [
    "## Question 2"
   ]
  },
  {
   "cell_type": "code",
   "execution_count": 12,
   "metadata": {},
   "outputs": [
    {
     "name": "stdout",
     "output_type": "stream",
     "text": [
      "0.6\n"
     ]
    }
   ],
   "source": [
    "p=0.5     #probability of bag 1\n",
    "q=0.5     #probability of bag 2\n",
    "pB=0.6      #probability of black ball from bag 1\n",
    "qB=0.4      #probability of black ball from bag 2\n",
    "prob = (p*pB)/((p*pB)+(q*qB))\n",
    "print (prob)"
   ]
  },
  {
   "cell_type": "markdown",
   "metadata": {},
   "source": [
    "## Question 3"
   ]
  },
  {
   "cell_type": "code",
   "execution_count": 13,
   "metadata": {},
   "outputs": [
    {
     "name": "stdout",
     "output_type": "stream",
     "text": [
      "0.285714285714\n"
     ]
    }
   ],
   "source": [
    "truth=0.6666666666667     #probability of speaking truth\n",
    "lie=0.3333333333333       #probability of not speaking truth\n",
    "obn4=0.1666666666667      #probability of getting number 4\n",
    "nobn4=0.8333333333333     #probability of not getting number 4\n",
    "prob = (truth*obn4)/((truth*obn4)+(lie*nobn4))\n",
    "print (prob)"
   ]
  }
 ],
 "metadata": {
  "kernelspec": {
   "display_name": "Python 2",
   "language": "python",
   "name": "python2"
  },
  "language_info": {
   "codemirror_mode": {
    "name": "ipython",
    "version": 2
   },
   "file_extension": ".py",
   "mimetype": "text/x-python",
   "name": "python",
   "nbconvert_exporter": "python",
   "pygments_lexer": "ipython2",
   "version": "2.7.14"
  }
 },
 "nbformat": 4,
 "nbformat_minor": 2
}
