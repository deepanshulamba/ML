{
 "cells": [
  {
   "cell_type": "code",
   "execution_count": 69,
   "metadata": {},
   "outputs": [],
   "source": [
    "import numpy as np\n",
    "import matplotlib.pyplot as plt\n",
    "from sklearn.svm import SVC\n",
    "from sklearn import datasets\n",
    "from sklearn import metrics\n",
    "from sklearn.model_selection import train_test_split"
   ]
  },
  {
   "cell_type": "markdown",
   "metadata": {},
   "source": [
    "## Question 1\n",
    "Loading the dataset from sklearn"
   ]
  },
  {
   "cell_type": "code",
   "execution_count": 70,
   "metadata": {},
   "outputs": [],
   "source": [
    "digit=datasets.load_digits()"
   ]
  },
  {
   "cell_type": "code",
   "execution_count": 71,
   "metadata": {},
   "outputs": [],
   "source": [
    "p=digit.data"
   ]
  },
  {
   "cell_type": "code",
   "execution_count": 72,
   "metadata": {},
   "outputs": [],
   "source": [
    "q=digit.target"
   ]
  },
  {
   "cell_type": "markdown",
   "metadata": {},
   "source": [
    "## Question 2\n",
    "Spliting the dataset"
   ]
  },
  {
   "cell_type": "code",
   "execution_count": 73,
   "metadata": {},
   "outputs": [
    {
     "data": {
      "text/plain": [
       "((1078L, 64L), (719L, 64L))"
      ]
     },
     "execution_count": 73,
     "metadata": {},
     "output_type": "execute_result"
    }
   ],
   "source": [
    "p_train,p_test,q_train,q_test = train_test_split(p,q,test_size=0.4)\n",
    "p_train.shape , p_test.shape"
   ]
  },
  {
   "cell_type": "markdown",
   "metadata": {},
   "source": [
    "## Question 3\n",
    "Using SVM with kernels\n",
    "## a. Linear"
   ]
  },
  {
   "cell_type": "code",
   "execution_count": 74,
   "metadata": {},
   "outputs": [],
   "source": [
    "m=SVC(kernel=\"linear\")"
   ]
  },
  {
   "cell_type": "code",
   "execution_count": 75,
   "metadata": {},
   "outputs": [
    {
     "data": {
      "text/plain": [
       "SVC(C=1.0, cache_size=200, class_weight=None, coef0=0.0,\n",
       "  decision_function_shape='ovr', degree=3, gamma='auto', kernel='linear',\n",
       "  max_iter=-1, probability=False, random_state=None, shrinking=True,\n",
       "  tol=0.001, verbose=False)"
      ]
     },
     "execution_count": 75,
     "metadata": {},
     "output_type": "execute_result"
    }
   ],
   "source": [
    "m.fit(p_train,q_train)"
   ]
  },
  {
   "cell_type": "code",
   "execution_count": 76,
   "metadata": {},
   "outputs": [],
   "source": [
    "pred=m.predict(p_test)"
   ]
  },
  {
   "cell_type": "code",
   "execution_count": 77,
   "metadata": {},
   "outputs": [
    {
     "data": {
      "text/plain": [
       "0.9819193324061196"
      ]
     },
     "execution_count": 77,
     "metadata": {},
     "output_type": "execute_result"
    }
   ],
   "source": [
    "metrics.accuracy_score(q_test,pred)"
   ]
  },
  {
   "cell_type": "code",
   "execution_count": 78,
   "metadata": {},
   "outputs": [
    {
     "name": "stdout",
     "output_type": "stream",
     "text": [
      "[[69  0  0  0  0  0  0  0  0  0]\n",
      " [ 0 75  0  0  0  0  0  0  0  0]\n",
      " [ 0  1 73  0  0  0  0  0  0  0]\n",
      " [ 0  0  0 71  0  0  0  0  1  0]\n",
      " [ 0  0  0  0 68  0  0  0  0  0]\n",
      " [ 0  0  0  0  0 68  1  0  0  0]\n",
      " [ 1  0  0  0  0  0 70  0  0  0]\n",
      " [ 0  0  0  0  0  0  0 71  0  0]\n",
      " [ 0  4  0  0  0  0  0  0 73  0]\n",
      " [ 0  0  0  2  0  3  0  0  0 68]]\n"
     ]
    }
   ],
   "source": [
    "print(metrics.confusion_matrix(q_test,pred))      ## Printing Confusion Matrix"
   ]
  },
  {
   "cell_type": "code",
   "execution_count": 79,
   "metadata": {},
   "outputs": [
    {
     "name": "stdout",
     "output_type": "stream",
     "text": [
      "             precision    recall  f1-score   support\n",
      "\n",
      "          0       0.99      1.00      0.99        69\n",
      "          1       0.94      1.00      0.97        75\n",
      "          2       1.00      0.99      0.99        74\n",
      "          3       0.97      0.99      0.98        72\n",
      "          4       1.00      1.00      1.00        68\n",
      "          5       0.96      0.99      0.97        69\n",
      "          6       0.99      0.99      0.99        71\n",
      "          7       1.00      1.00      1.00        71\n",
      "          8       0.99      0.95      0.97        77\n",
      "          9       1.00      0.93      0.96        73\n",
      "\n",
      "avg / total       0.98      0.98      0.98       719\n",
      "\n"
     ]
    }
   ],
   "source": [
    "print(metrics.classification_report(q_test,pred))      ## Printing Classification Report"
   ]
  },
  {
   "cell_type": "markdown",
   "metadata": {},
   "source": [
    "## b. Poly"
   ]
  },
  {
   "cell_type": "code",
   "execution_count": 80,
   "metadata": {},
   "outputs": [],
   "source": [
    "m2=SVC(kernel=\"poly\")"
   ]
  },
  {
   "cell_type": "code",
   "execution_count": 81,
   "metadata": {},
   "outputs": [
    {
     "data": {
      "text/plain": [
       "SVC(C=1.0, cache_size=200, class_weight=None, coef0=0.0,\n",
       "  decision_function_shape='ovr', degree=3, gamma='auto', kernel='poly',\n",
       "  max_iter=-1, probability=False, random_state=None, shrinking=True,\n",
       "  tol=0.001, verbose=False)"
      ]
     },
     "execution_count": 81,
     "metadata": {},
     "output_type": "execute_result"
    }
   ],
   "source": [
    "m2.fit(p_train,q_train)"
   ]
  },
  {
   "cell_type": "code",
   "execution_count": 82,
   "metadata": {},
   "outputs": [],
   "source": [
    "pred2=m2.predict(p_test)"
   ]
  },
  {
   "cell_type": "code",
   "execution_count": 83,
   "metadata": {},
   "outputs": [
    {
     "data": {
      "text/plain": [
       "99.02642559109874"
      ]
     },
     "execution_count": 83,
     "metadata": {},
     "output_type": "execute_result"
    }
   ],
   "source": [
    "metrics.accuracy_score(q_test,pred2)*100"
   ]
  },
  {
   "cell_type": "code",
   "execution_count": 84,
   "metadata": {},
   "outputs": [
    {
     "name": "stdout",
     "output_type": "stream",
     "text": [
      "[[69  0  0  0  0  0  0  0  0  0]\n",
      " [ 0 75  0  0  0  0  0  0  0  0]\n",
      " [ 0  0 74  0  0  0  0  0  0  0]\n",
      " [ 0  0  0 71  0  0  0  0  1  0]\n",
      " [ 0  0  0  0 68  0  0  0  0  0]\n",
      " [ 0  0  0  0  0 68  1  0  0  0]\n",
      " [ 0  0  0  0  0  0 70  0  1  0]\n",
      " [ 0  0  0  0  0  0  0 71  0  0]\n",
      " [ 0  2  0  0  0  0  0  0 75  0]\n",
      " [ 0  0  0  1  0  1  0  0  0 71]]\n"
     ]
    }
   ],
   "source": [
    "print(metrics.confusion_matrix(q_test,pred2))     ## Printing Confusion Matrix"
   ]
  },
  {
   "cell_type": "code",
   "execution_count": 85,
   "metadata": {},
   "outputs": [
    {
     "name": "stdout",
     "output_type": "stream",
     "text": [
      "             precision    recall  f1-score   support\n",
      "\n",
      "          0       1.00      1.00      1.00        69\n",
      "          1       0.97      1.00      0.99        75\n",
      "          2       1.00      1.00      1.00        74\n",
      "          3       0.99      0.99      0.99        72\n",
      "          4       1.00      1.00      1.00        68\n",
      "          5       0.99      0.99      0.99        69\n",
      "          6       0.99      0.99      0.99        71\n",
      "          7       1.00      1.00      1.00        71\n",
      "          8       0.97      0.97      0.97        77\n",
      "          9       1.00      0.97      0.99        73\n",
      "\n",
      "avg / total       0.99      0.99      0.99       719\n",
      "\n"
     ]
    }
   ],
   "source": [
    "print(metrics.classification_report(q_test,pred2))      ## Printing Classification Report"
   ]
  },
  {
   "cell_type": "markdown",
   "metadata": {},
   "source": [
    "## c. Gaussian"
   ]
  },
  {
   "cell_type": "code",
   "execution_count": 86,
   "metadata": {},
   "outputs": [],
   "source": [
    "m3=SVC()"
   ]
  },
  {
   "cell_type": "code",
   "execution_count": 87,
   "metadata": {},
   "outputs": [
    {
     "data": {
      "text/plain": [
       "SVC(C=1.0, cache_size=200, class_weight=None, coef0=0.0,\n",
       "  decision_function_shape='ovr', degree=3, gamma='auto', kernel='rbf',\n",
       "  max_iter=-1, probability=False, random_state=None, shrinking=True,\n",
       "  tol=0.001, verbose=False)"
      ]
     },
     "execution_count": 87,
     "metadata": {},
     "output_type": "execute_result"
    }
   ],
   "source": [
    "m3.fit(p_train,q_train)"
   ]
  },
  {
   "cell_type": "code",
   "execution_count": 88,
   "metadata": {},
   "outputs": [],
   "source": [
    "pred3=m3.predict(p_test)"
   ]
  },
  {
   "cell_type": "code",
   "execution_count": 89,
   "metadata": {},
   "outputs": [
    {
     "data": {
      "text/plain": [
       "0.4144645340751043"
      ]
     },
     "execution_count": 89,
     "metadata": {},
     "output_type": "execute_result"
    }
   ],
   "source": [
    "metrics.accuracy_score(q_test,pred3)"
   ]
  },
  {
   "cell_type": "code",
   "execution_count": 90,
   "metadata": {},
   "outputs": [
    {
     "name": "stdout",
     "output_type": "stream",
     "text": [
      "[[35  0  0  0  0 34  0  0  0  0]\n",
      " [ 0 22  0  0  0 53  0  0  0  0]\n",
      " [ 0  0 12  0  0 62  0  0  0  0]\n",
      " [ 0  0  0 31  0 41  0  0  0  0]\n",
      " [ 0  0  0  0 42 26  0  0  0  0]\n",
      " [ 0  0  0  0  0 69  0  0  0  0]\n",
      " [ 0  0  0  0  0 23 48  0  0  0]\n",
      " [ 0  0  0  0  0 45  0 26  0  0]\n",
      " [ 0  0  0  0  0 77  0  0  0  0]\n",
      " [ 0  0  0  0  0 60  0  0  0 13]]\n"
     ]
    }
   ],
   "source": [
    "print(metrics.confusion_matrix(q_test,pred3))      ## Printing Confusion Matrix"
   ]
  },
  {
   "cell_type": "code",
   "execution_count": 91,
   "metadata": {},
   "outputs": [
    {
     "name": "stdout",
     "output_type": "stream",
     "text": [
      "             precision    recall  f1-score   support\n",
      "\n",
      "          0       1.00      0.51      0.67        69\n",
      "          1       1.00      0.29      0.45        75\n",
      "          2       1.00      0.16      0.28        74\n",
      "          3       1.00      0.43      0.60        72\n",
      "          4       1.00      0.62      0.76        68\n",
      "          5       0.14      1.00      0.25        69\n",
      "          6       1.00      0.68      0.81        71\n",
      "          7       1.00      0.37      0.54        71\n",
      "          8       0.00      0.00      0.00        77\n",
      "          9       1.00      0.18      0.30        73\n",
      "\n",
      "avg / total       0.81      0.41      0.46       719\n",
      "\n"
     ]
    }
   ],
   "source": [
    "print(metrics.classification_report(q_test,pred3))      ## Printing Classification Report"
   ]
  },
  {
   "cell_type": "markdown",
   "metadata": {},
   "source": [
    "## d. Sigmoid"
   ]
  },
  {
   "cell_type": "code",
   "execution_count": 92,
   "metadata": {},
   "outputs": [],
   "source": [
    "m4=SVC(kernel=\"sigmoid\")"
   ]
  },
  {
   "cell_type": "code",
   "execution_count": 93,
   "metadata": {},
   "outputs": [
    {
     "data": {
      "text/plain": [
       "SVC(C=1.0, cache_size=200, class_weight=None, coef0=0.0,\n",
       "  decision_function_shape='ovr', degree=3, gamma='auto', kernel='sigmoid',\n",
       "  max_iter=-1, probability=False, random_state=None, shrinking=True,\n",
       "  tol=0.001, verbose=False)"
      ]
     },
     "execution_count": 93,
     "metadata": {},
     "output_type": "execute_result"
    }
   ],
   "source": [
    "m4.fit(p_train,q_train)"
   ]
  },
  {
   "cell_type": "code",
   "execution_count": 94,
   "metadata": {},
   "outputs": [],
   "source": [
    "pred4=m4.predict(p_test)"
   ]
  },
  {
   "cell_type": "code",
   "execution_count": 95,
   "metadata": {},
   "outputs": [
    {
     "data": {
      "text/plain": [
       "9.596662030598054"
      ]
     },
     "execution_count": 95,
     "metadata": {},
     "output_type": "execute_result"
    }
   ],
   "source": [
    "metrics.accuracy_score(q_test,pred4)*100"
   ]
  },
  {
   "cell_type": "code",
   "execution_count": 96,
   "metadata": {},
   "outputs": [
    {
     "name": "stdout",
     "output_type": "stream",
     "text": [
      "[[35  0  0  0  0 34  0  0  0  0]\n",
      " [ 0 22  0  0  0 53  0  0  0  0]\n",
      " [ 0  0 12  0  0 62  0  0  0  0]\n",
      " [ 0  0  0 31  0 41  0  0  0  0]\n",
      " [ 0  0  0  0 42 26  0  0  0  0]\n",
      " [ 0  0  0  0  0 69  0  0  0  0]\n",
      " [ 0  0  0  0  0 23 48  0  0  0]\n",
      " [ 0  0  0  0  0 45  0 26  0  0]\n",
      " [ 0  0  0  0  0 77  0  0  0  0]\n",
      " [ 0  0  0  0  0 60  0  0  0 13]]\n"
     ]
    }
   ],
   "source": [
    "print(metrics.confusion_matrix(q_test,pred3))    ## Printing Confusion Matrix"
   ]
  },
  {
   "cell_type": "code",
   "execution_count": 97,
   "metadata": {},
   "outputs": [
    {
     "name": "stdout",
     "output_type": "stream",
     "text": [
      "             precision    recall  f1-score   support\n",
      "\n",
      "          0       0.00      0.00      0.00        69\n",
      "          1       0.00      0.00      0.00        75\n",
      "          2       0.00      0.00      0.00        74\n",
      "          3       0.00      0.00      0.00        72\n",
      "          4       0.00      0.00      0.00        68\n",
      "          5       0.10      1.00      0.18        69\n",
      "          6       0.00      0.00      0.00        71\n",
      "          7       0.00      0.00      0.00        71\n",
      "          8       0.00      0.00      0.00        77\n",
      "          9       0.00      0.00      0.00        73\n",
      "\n",
      "avg / total       0.01      0.10      0.02       719\n",
      "\n"
     ]
    }
   ],
   "source": [
    "print(metrics.classification_report(q_test,pred4))     ## Printing Classification Report"
   ]
  },
  {
   "cell_type": "code",
   "execution_count": null,
   "metadata": {},
   "outputs": [],
   "source": []
  }
 ],
 "metadata": {
  "kernelspec": {
   "display_name": "Python 2",
   "language": "python",
   "name": "python2"
  },
  "language_info": {
   "codemirror_mode": {
    "name": "ipython",
    "version": 2
   },
   "file_extension": ".py",
   "mimetype": "text/x-python",
   "name": "python",
   "nbconvert_exporter": "python",
   "pygments_lexer": "ipython2",
   "version": "2.7.14"
  }
 },
 "nbformat": 4,
 "nbformat_minor": 2
}
